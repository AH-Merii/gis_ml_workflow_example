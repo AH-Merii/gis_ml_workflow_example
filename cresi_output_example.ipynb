{
 "metadata": {
  "language_info": {
   "codemirror_mode": {
    "name": "ipython",
    "version": 3
   },
   "file_extension": ".py",
   "mimetype": "text/x-python",
   "name": "python",
   "nbconvert_exporter": "python",
   "pygments_lexer": "ipython3",
   "version": "3.8.6-final"
  },
  "orig_nbformat": 2,
  "kernelspec": {
   "name": "python3",
   "display_name": "Python 3"
  }
 },
 "nbformat": 4,
 "nbformat_minor": 2,
 "cells": [
  {
   "source": [
    "# Cresi Output Example\n",
    "Cresi, which stands for City-scale Road Extraction from Satellite Imagery, is a library, well, for extracting road segments from satellite imagery. This library includes tools for segmenting a raster satellite image along with the corresponding vector labels. It also contains all the necessary tools to deploy already trained models that have been trained on the Spacenet 6 dataset. The output of the models are geo-referenced NetworkX graph for the corresponding road segments found in the input raster image. The model is also able to predict the speed of the roads. Furthermore, given 2 points on the output vector the model is able to optimize for distance or time, given that it can predict the speed of the segmented roads.\n",
    "\n",
    "In this notebook I will be visualizing some of the outputs that I was able to generate on an input image of the Bekaa Valley in Lebanon. "
   ],
   "cell_type": "markdown",
   "metadata": {}
  },
  {
   "source": [
    "## Import Libraries"
   ],
   "cell_type": "markdown",
   "metadata": {}
  },
  {
   "cell_type": "code",
   "execution_count": 1,
   "metadata": {},
   "outputs": [
    {
     "output_type": "stream",
     "name": "stdout",
     "text": [
      "import complete\n"
     ]
    }
   ],
   "source": [
    "import pandas as pd\n",
    "import geopandas as gpd\n",
    "import numpy as np\n",
    "import folium\n",
    "import rasterio\n",
    "from pathlib import Path\n",
    "import shapely\n",
    "import json\n",
    "import gdal\n",
    "print('import complete')"
   ]
  },
  {
   "source": [
    "## Setup Required Paths"
   ],
   "cell_type": "markdown",
   "metadata": {}
  },
  {
   "cell_type": "code",
   "execution_count": 2,
   "metadata": {},
   "outputs": [],
   "source": [
    "# load directories\n",
    "data_path = Path(Path.cwd()/'data')\n",
    "cresi_path = Path(data_path/'cresi')\n",
    "\n",
    "# load paths to files\n",
    "sample_image_path = Path(cresi_path/'Ortho_Sample.tif')\n",
    "vectors_path = Path(cresi_path/'wkt_vectors.csv')\n"
   ]
  },
  {
   "source": [
    "## Reprojecting Raster Image CRS to 4326"
   ],
   "cell_type": "markdown",
   "metadata": {}
  },
  {
   "cell_type": "code",
   "execution_count": 3,
   "metadata": {},
   "outputs": [
    {
     "output_type": "stream",
     "name": "stdout",
     "text": [
      "Number of Bands:  3 \n\nBounds of the Raster File:  BoundingBox(left=767588.6493501049, bottom=3745779.3534929864, right=771234.6493501049, top=3748007.3534929864) \n\nRaster File CRS:  EPSG:32636 \n\n"
     ]
    }
   ],
   "source": [
    "with rasterio.open(sample_image_path) as r:\n",
    "    print('Number of Bands: ',r.count,'\\n')\n",
    "    print('Bounds of the Raster File: ',r.bounds,'\\n')\n",
    "    print('Raster File CRS: ',r.crs,'\\n')\n"
   ]
  },
  {
   "cell_type": "code",
   "execution_count": 7,
   "metadata": {},
   "outputs": [],
   "source": [
    "def reproject_raster_gdal(in_path:str,epsg:str,out_path:str=None):\n",
    "    in_path = str(in_path)\n",
    "    if not out_path:\n",
    "        out_path = in_path[:-4]+epsg+'.tif'\n",
    "    input_raster = gdal.Open(in_path)\n",
    "    gdal.Warp(out_path,input_raster,dstSRS=epsg)\n",
    "    return out_path"
   ]
  },
  {
   "cell_type": "code",
   "execution_count": 8,
   "metadata": {},
   "outputs": [],
   "source": [
    "out_path = Path(reproject_raster_gdal(in_path=sample_image_path,epsg='EPSG:4326'))"
   ]
  },
  {
   "cell_type": "code",
   "execution_count": 9,
   "metadata": {},
   "outputs": [],
   "source": [
    "sample_transform_path = Path(cresi_path/'sample_4326.tif')"
   ]
  },
  {
   "cell_type": "code",
   "execution_count": 10,
   "metadata": {},
   "outputs": [
    {
     "output_type": "stream",
     "name": "stdout",
     "text": [
      "Number of Bands:  3 \n\nBounds of the Raster File:  BoundingBox(left=35.891007792358295, bottom=33.817464210009774, right=35.93103767327084, top=33.83846264766881) \n\nRaster File CRS:  EPSG:4326 \n\n"
     ]
    }
   ],
   "source": [
    "with rasterio.open(out_path) as r:\n",
    "    print('Number of Bands: ',r.count,'\\n')\n",
    "    print('Bounds of the Raster File: ',r.bounds,'\\n')\n",
    "    print('Raster File CRS: ',r.crs,'\\n')"
   ]
  },
  {
   "source": [
    "## Visualizing input raster file"
   ],
   "cell_type": "markdown",
   "metadata": {}
  },
  {
   "cell_type": "code",
   "execution_count": 11,
   "metadata": {},
   "outputs": [],
   "source": [
    "def get_bbox(chip_path):\n",
    "    with rasterio.open(chip_path) as c:\n",
    "        bounds = c.bounds\n",
    "    # [[top_left],[bottom_right]]\n",
    "    bbox = [[bounds[3],bounds[0]],[bounds[1],bounds[2]]]\n",
    "    return bbox"
   ]
  },
  {
   "cell_type": "code",
   "execution_count": 12,
   "metadata": {},
   "outputs": [],
   "source": [
    "def read_raster(chip_path):\n",
    "    with rasterio.open(chip_path) as c:\n",
    "        return c.read()"
   ]
  },
  {
   "cell_type": "code",
   "execution_count": 13,
   "metadata": {},
   "outputs": [],
   "source": [
    "def rasterio_affine_to_shapely_affine(matrix):\n",
    "    return [matrix[0],matrix[1],matrix[3],matrix[4],matrix[2],matrix[5]]"
   ]
  },
  {
   "source": [
    "### Create Folium Map Object"
   ],
   "cell_type": "markdown",
   "metadata": {}
  },
  {
   "cell_type": "code",
   "execution_count": 14,
   "metadata": {},
   "outputs": [],
   "source": [
    "raster_bbox = get_bbox(sample_transform_path)"
   ]
  },
  {
   "cell_type": "code",
   "execution_count": 15,
   "metadata": {},
   "outputs": [],
   "source": [
    "map = folium.Map(\n",
    "    location=raster_bbox[0],\n",
    "    zoom_start=18)"
   ]
  },
  {
   "source": [
    "### Convert raster to image\n",
    "In order to plot raster image it needs to be converted from raster format (bands, rows, columns) to (rows, columns, bands) this can be done in rasterio using the functions below"
   ],
   "cell_type": "markdown",
   "metadata": {}
  },
  {
   "cell_type": "code",
   "execution_count": 16,
   "metadata": {},
   "outputs": [],
   "source": [
    "from rasterio.plot import reshape_as_raster, reshape_as_image"
   ]
  },
  {
   "cell_type": "code",
   "execution_count": 17,
   "metadata": {},
   "outputs": [
    {
     "output_type": "execute_result",
     "data": {
      "text/plain": [
       "(3, 4078, 7774)"
      ]
     },
     "metadata": {},
     "execution_count": 17
    }
   ],
   "source": [
    "raster = read_raster(out_path)\n",
    "raster.shape"
   ]
  },
  {
   "cell_type": "code",
   "execution_count": 18,
   "metadata": {},
   "outputs": [
    {
     "output_type": "execute_result",
     "data": {
      "text/plain": [
       "(4078, 7774, 3)"
      ]
     },
     "metadata": {},
     "execution_count": 18
    }
   ],
   "source": [
    "image = reshape_as_image(raster)\n",
    "image.shape"
   ]
  },
  {
   "source": [
    "### Add raster layer on top base folium  map"
   ],
   "cell_type": "markdown",
   "metadata": {}
  },
  {
   "cell_type": "code",
   "execution_count": 19,
   "metadata": {},
   "outputs": [],
   "source": [
    "folium.raster_layers.ImageOverlay(\n",
    "    image=image,\n",
    "    bounds=raster_bbox,\n",
    "    opacity=0.6,\n",
    "    name='raster'   \n",
    ").add_to(map);"
   ]
  },
  {
   "source": [
    "### Read output Cresi CSV"
   ],
   "cell_type": "markdown",
   "metadata": {}
  },
  {
   "cell_type": "code",
   "execution_count": 20,
   "metadata": {},
   "outputs": [],
   "source": [
    "df = pd.read_csv(vectors_path)"
   ]
  },
  {
   "source": [
    "### Convert Well Known Text Format to Geopandas Geometry"
   ],
   "cell_type": "markdown",
   "metadata": {}
  },
  {
   "cell_type": "code",
   "execution_count": 21,
   "metadata": {},
   "outputs": [],
   "source": [
    "df['geometry'] = df['WKT_Pix'].apply(shapely.wkt.loads)"
   ]
  },
  {
   "cell_type": "code",
   "execution_count": 22,
   "metadata": {},
   "outputs": [],
   "source": [
    "gdf = gpd.GeoDataFrame(df, geometry='geometry')"
   ]
  },
  {
   "cell_type": "code",
   "execution_count": 23,
   "metadata": {},
   "outputs": [
    {
     "output_type": "execute_result",
     "data": {
      "text/plain": [
       "             ImageId                                            WKT_Pix  \\\n",
       "0  Ortho_Sample_clip  LINESTRING (1352.0 2.0, 1347.0 93.0, 1339.0 14...   \n",
       "1  Ortho_Sample_clip  LINESTRING (2547.0 2.0, 2574.0 89.0, 2586.0 14...   \n",
       "2  Ortho_Sample_clip  LINESTRING (3585.0 2.0, 3612.0 20.0, 3639.0 30...   \n",
       "3  Ortho_Sample_clip  LINESTRING (4025.0 2.0, 4037.0 21.0, 4069.0 62...   \n",
       "4  Ortho_Sample_clip  LINESTRING (4786.0 2.0, 4831.0 47.0, 4835.0 58.0)   \n",
       "\n",
       "                                            geometry  \n",
       "0  LINESTRING (1352.000 2.000, 1347.000 93.000, 1...  \n",
       "1  LINESTRING (2547.000 2.000, 2574.000 89.000, 2...  \n",
       "2  LINESTRING (3585.000 2.000, 3612.000 20.000, 3...  \n",
       "3  LINESTRING (4025.000 2.000, 4037.000 21.000, 4...  \n",
       "4  LINESTRING (4786.000 2.000, 4831.000 47.000, 4...  "
      ],
      "text/html": "<div>\n<style scoped>\n    .dataframe tbody tr th:only-of-type {\n        vertical-align: middle;\n    }\n\n    .dataframe tbody tr th {\n        vertical-align: top;\n    }\n\n    .dataframe thead th {\n        text-align: right;\n    }\n</style>\n<table border=\"1\" class=\"dataframe\">\n  <thead>\n    <tr style=\"text-align: right;\">\n      <th></th>\n      <th>ImageId</th>\n      <th>WKT_Pix</th>\n      <th>geometry</th>\n    </tr>\n  </thead>\n  <tbody>\n    <tr>\n      <th>0</th>\n      <td>Ortho_Sample_clip</td>\n      <td>LINESTRING (1352.0 2.0, 1347.0 93.0, 1339.0 14...</td>\n      <td>LINESTRING (1352.000 2.000, 1347.000 93.000, 1...</td>\n    </tr>\n    <tr>\n      <th>1</th>\n      <td>Ortho_Sample_clip</td>\n      <td>LINESTRING (2547.0 2.0, 2574.0 89.0, 2586.0 14...</td>\n      <td>LINESTRING (2547.000 2.000, 2574.000 89.000, 2...</td>\n    </tr>\n    <tr>\n      <th>2</th>\n      <td>Ortho_Sample_clip</td>\n      <td>LINESTRING (3585.0 2.0, 3612.0 20.0, 3639.0 30...</td>\n      <td>LINESTRING (3585.000 2.000, 3612.000 20.000, 3...</td>\n    </tr>\n    <tr>\n      <th>3</th>\n      <td>Ortho_Sample_clip</td>\n      <td>LINESTRING (4025.0 2.0, 4037.0 21.0, 4069.0 62...</td>\n      <td>LINESTRING (4025.000 2.000, 4037.000 21.000, 4...</td>\n    </tr>\n    <tr>\n      <th>4</th>\n      <td>Ortho_Sample_clip</td>\n      <td>LINESTRING (4786.0 2.0, 4831.0 47.0, 4835.0 58.0)</td>\n      <td>LINESTRING (4786.000 2.000, 4831.000 47.000, 4...</td>\n    </tr>\n  </tbody>\n</table>\n</div>"
     },
     "metadata": {},
     "execution_count": 23
    }
   ],
   "source": [
    "gdf.head()"
   ]
  },
  {
   "source": [
    "### Set Original CRS"
   ],
   "cell_type": "markdown",
   "metadata": {}
  },
  {
   "cell_type": "code",
   "execution_count": 25,
   "metadata": {},
   "outputs": [
    {
     "output_type": "stream",
     "name": "stdout",
     "text": [
      "EPSG:32636\n| 0.50, 0.00, 767588.65|\n| 0.00,-0.50, 3748007.35|\n| 0.00, 0.00, 1.00|\n"
     ]
    }
   ],
   "source": [
    "with rasterio.open(str(sample_image_path)) as r:\n",
    "    crs = r.crs\n",
    "    m = r.transform\n",
    "    print(crs)\n",
    "    print(m)\n"
   ]
  },
  {
   "cell_type": "code",
   "execution_count": 24,
   "metadata": {},
   "outputs": [
    {
     "output_type": "execute_result",
     "data": {
      "text/plain": [
       "'EPSG:32636'"
      ]
     },
     "metadata": {},
     "execution_count": 24
    }
   ],
   "source": [
    "gdf.crs = crs\n",
    "gdf.crs"
   ]
  },
  {
   "source": [
    "### Use original image affine transformation information to convert pixel coordinates geocoordinates"
   ],
   "cell_type": "markdown",
   "metadata": {}
  },
  {
   "cell_type": "code",
   "execution_count": 26,
   "metadata": {},
   "outputs": [
    {
     "output_type": "execute_result",
     "data": {
      "text/plain": [
       "[0.5, 0.0, 0.0, -0.5, 767588.6493501049, 3748007.3534929864]"
      ]
     },
     "metadata": {},
     "execution_count": 26
    }
   ],
   "source": [
    "# get affine matrix into format accepted by shapely and geopandas\n",
    "matrix = rasterio_affine_to_shapely_affine(matrix = m)\n",
    "matrix"
   ]
  },
  {
   "cell_type": "code",
   "execution_count": 27,
   "metadata": {},
   "outputs": [
    {
     "output_type": "execute_result",
     "data": {
      "text/plain": [
       "             ImageId                                            WKT_Pix  \\\n",
       "0  Ortho_Sample_clip  LINESTRING (1352.0 2.0, 1347.0 93.0, 1339.0 14...   \n",
       "1  Ortho_Sample_clip  LINESTRING (2547.0 2.0, 2574.0 89.0, 2586.0 14...   \n",
       "2  Ortho_Sample_clip  LINESTRING (3585.0 2.0, 3612.0 20.0, 3639.0 30...   \n",
       "3  Ortho_Sample_clip  LINESTRING (4025.0 2.0, 4037.0 21.0, 4069.0 62...   \n",
       "4  Ortho_Sample_clip  LINESTRING (4786.0 2.0, 4831.0 47.0, 4835.0 58.0)   \n",
       "\n",
       "                                            geometry  \n",
       "0  LINESTRING (768264.649 3748006.353, 768262.149...  \n",
       "1  LINESTRING (768862.149 3748006.353, 768875.649...  \n",
       "2  LINESTRING (769381.149 3748006.353, 769394.649...  \n",
       "3  LINESTRING (769601.149 3748006.353, 769607.149...  \n",
       "4  LINESTRING (769981.649 3748006.353, 770004.149...  "
      ],
      "text/html": "<div>\n<style scoped>\n    .dataframe tbody tr th:only-of-type {\n        vertical-align: middle;\n    }\n\n    .dataframe tbody tr th {\n        vertical-align: top;\n    }\n\n    .dataframe thead th {\n        text-align: right;\n    }\n</style>\n<table border=\"1\" class=\"dataframe\">\n  <thead>\n    <tr style=\"text-align: right;\">\n      <th></th>\n      <th>ImageId</th>\n      <th>WKT_Pix</th>\n      <th>geometry</th>\n    </tr>\n  </thead>\n  <tbody>\n    <tr>\n      <th>0</th>\n      <td>Ortho_Sample_clip</td>\n      <td>LINESTRING (1352.0 2.0, 1347.0 93.0, 1339.0 14...</td>\n      <td>LINESTRING (768264.649 3748006.353, 768262.149...</td>\n    </tr>\n    <tr>\n      <th>1</th>\n      <td>Ortho_Sample_clip</td>\n      <td>LINESTRING (2547.0 2.0, 2574.0 89.0, 2586.0 14...</td>\n      <td>LINESTRING (768862.149 3748006.353, 768875.649...</td>\n    </tr>\n    <tr>\n      <th>2</th>\n      <td>Ortho_Sample_clip</td>\n      <td>LINESTRING (3585.0 2.0, 3612.0 20.0, 3639.0 30...</td>\n      <td>LINESTRING (769381.149 3748006.353, 769394.649...</td>\n    </tr>\n    <tr>\n      <th>3</th>\n      <td>Ortho_Sample_clip</td>\n      <td>LINESTRING (4025.0 2.0, 4037.0 21.0, 4069.0 62...</td>\n      <td>LINESTRING (769601.149 3748006.353, 769607.149...</td>\n    </tr>\n    <tr>\n      <th>4</th>\n      <td>Ortho_Sample_clip</td>\n      <td>LINESTRING (4786.0 2.0, 4831.0 47.0, 4835.0 58.0)</td>\n      <td>LINESTRING (769981.649 3748006.353, 770004.149...</td>\n    </tr>\n  </tbody>\n</table>\n</div>"
     },
     "metadata": {},
     "execution_count": 27
    }
   ],
   "source": [
    "gdf['geometry'] = gdf['geometry'].affine_transform(matrix)\n",
    "gdf.head()"
   ]
  },
  {
   "source": [
    "### Convert to polygons to CRS ESPG:4326"
   ],
   "cell_type": "markdown",
   "metadata": {}
  },
  {
   "cell_type": "code",
   "execution_count": 28,
   "metadata": {},
   "outputs": [
    {
     "output_type": "execute_result",
     "data": {
      "text/plain": [
       "             ImageId                                            WKT_Pix  \\\n",
       "0  Ortho_Sample_clip  LINESTRING (1352.0 2.0, 1347.0 93.0, 1339.0 14...   \n",
       "1  Ortho_Sample_clip  LINESTRING (2547.0 2.0, 2574.0 89.0, 2586.0 14...   \n",
       "2  Ortho_Sample_clip  LINESTRING (3585.0 2.0, 3612.0 20.0, 3639.0 30...   \n",
       "3  Ortho_Sample_clip  LINESTRING (4025.0 2.0, 4037.0 21.0, 4069.0 62...   \n",
       "4  Ortho_Sample_clip  LINESTRING (4786.0 2.0, 4831.0 47.0, 4835.0 58.0)   \n",
       "\n",
       "                                            geometry  \n",
       "0  LINESTRING (35.89898 33.83828, 35.89894 33.837...  \n",
       "1  LINESTRING (35.90543 33.83813, 35.90556 33.837...  \n",
       "2  LINESTRING (35.91103 33.83800, 35.91118 33.837...  \n",
       "3  LINESTRING (35.91341 33.83794, 35.91347 33.837...  \n",
       "4  LINESTRING (35.91751 33.83784, 35.91775 33.837...  "
      ],
      "text/html": "<div>\n<style scoped>\n    .dataframe tbody tr th:only-of-type {\n        vertical-align: middle;\n    }\n\n    .dataframe tbody tr th {\n        vertical-align: top;\n    }\n\n    .dataframe thead th {\n        text-align: right;\n    }\n</style>\n<table border=\"1\" class=\"dataframe\">\n  <thead>\n    <tr style=\"text-align: right;\">\n      <th></th>\n      <th>ImageId</th>\n      <th>WKT_Pix</th>\n      <th>geometry</th>\n    </tr>\n  </thead>\n  <tbody>\n    <tr>\n      <th>0</th>\n      <td>Ortho_Sample_clip</td>\n      <td>LINESTRING (1352.0 2.0, 1347.0 93.0, 1339.0 14...</td>\n      <td>LINESTRING (35.89898 33.83828, 35.89894 33.837...</td>\n    </tr>\n    <tr>\n      <th>1</th>\n      <td>Ortho_Sample_clip</td>\n      <td>LINESTRING (2547.0 2.0, 2574.0 89.0, 2586.0 14...</td>\n      <td>LINESTRING (35.90543 33.83813, 35.90556 33.837...</td>\n    </tr>\n    <tr>\n      <th>2</th>\n      <td>Ortho_Sample_clip</td>\n      <td>LINESTRING (3585.0 2.0, 3612.0 20.0, 3639.0 30...</td>\n      <td>LINESTRING (35.91103 33.83800, 35.91118 33.837...</td>\n    </tr>\n    <tr>\n      <th>3</th>\n      <td>Ortho_Sample_clip</td>\n      <td>LINESTRING (4025.0 2.0, 4037.0 21.0, 4069.0 62...</td>\n      <td>LINESTRING (35.91341 33.83794, 35.91347 33.837...</td>\n    </tr>\n    <tr>\n      <th>4</th>\n      <td>Ortho_Sample_clip</td>\n      <td>LINESTRING (4786.0 2.0, 4831.0 47.0, 4835.0 58.0)</td>\n      <td>LINESTRING (35.91751 33.83784, 35.91775 33.837...</td>\n    </tr>\n  </tbody>\n</table>\n</div>"
     },
     "metadata": {},
     "execution_count": 28
    }
   ],
   "source": [
    "gdf['geometry'] = gdf['geometry'].to_crs(epsg=4326)\n",
    "gdf.head()"
   ]
  },
  {
   "cell_type": "code",
   "execution_count": 29,
   "metadata": {},
   "outputs": [],
   "source": [
    "gdf.crs = 'EPSG:4326'"
   ]
  },
  {
   "cell_type": "code",
   "execution_count": 31,
   "metadata": {},
   "outputs": [
    {
     "output_type": "execute_result",
     "data": {
      "text/plain": [
       "'EPSG:4326'"
      ]
     },
     "metadata": {},
     "execution_count": 31
    }
   ],
   "source": [
    "gdf.crs"
   ]
  },
  {
   "cell_type": "code",
   "execution_count": 32,
   "metadata": {},
   "outputs": [],
   "source": [
    "gdf = gdf.drop('WKT_Pix',axis=1)"
   ]
  },
  {
   "cell_type": "code",
   "execution_count": 33,
   "metadata": {},
   "outputs": [
    {
     "output_type": "execute_result",
     "data": {
      "text/plain": [
       "             ImageId                                           geometry\n",
       "0  Ortho_Sample_clip  LINESTRING (35.89898 33.83828, 35.89894 33.837...\n",
       "1  Ortho_Sample_clip  LINESTRING (35.90543 33.83813, 35.90556 33.837...\n",
       "2  Ortho_Sample_clip  LINESTRING (35.91103 33.83800, 35.91118 33.837...\n",
       "3  Ortho_Sample_clip  LINESTRING (35.91341 33.83794, 35.91347 33.837...\n",
       "4  Ortho_Sample_clip  LINESTRING (35.91751 33.83784, 35.91775 33.837..."
      ],
      "text/html": "<div>\n<style scoped>\n    .dataframe tbody tr th:only-of-type {\n        vertical-align: middle;\n    }\n\n    .dataframe tbody tr th {\n        vertical-align: top;\n    }\n\n    .dataframe thead th {\n        text-align: right;\n    }\n</style>\n<table border=\"1\" class=\"dataframe\">\n  <thead>\n    <tr style=\"text-align: right;\">\n      <th></th>\n      <th>ImageId</th>\n      <th>geometry</th>\n    </tr>\n  </thead>\n  <tbody>\n    <tr>\n      <th>0</th>\n      <td>Ortho_Sample_clip</td>\n      <td>LINESTRING (35.89898 33.83828, 35.89894 33.837...</td>\n    </tr>\n    <tr>\n      <th>1</th>\n      <td>Ortho_Sample_clip</td>\n      <td>LINESTRING (35.90543 33.83813, 35.90556 33.837...</td>\n    </tr>\n    <tr>\n      <th>2</th>\n      <td>Ortho_Sample_clip</td>\n      <td>LINESTRING (35.91103 33.83800, 35.91118 33.837...</td>\n    </tr>\n    <tr>\n      <th>3</th>\n      <td>Ortho_Sample_clip</td>\n      <td>LINESTRING (35.91341 33.83794, 35.91347 33.837...</td>\n    </tr>\n    <tr>\n      <th>4</th>\n      <td>Ortho_Sample_clip</td>\n      <td>LINESTRING (35.91751 33.83784, 35.91775 33.837...</td>\n    </tr>\n  </tbody>\n</table>\n</div>"
     },
     "metadata": {},
     "execution_count": 33
    }
   ],
   "source": [
    "gdf.head()"
   ]
  },
  {
   "cell_type": "code",
   "execution_count": 34,
   "metadata": {},
   "outputs": [
    {
     "output_type": "stream",
     "name": "stdout",
     "text": [
      "LINESTRING (35.8989806188425 33.83828214754081, 35.89893978357955 33.83787293771328, 35.89888899716685 33.83764876420994, 35.89883584687392 33.83719477035845, 35.89885826684362 33.83705902167562, 35.89899303041007 33.83673131987481, 35.89904578346533 33.83669401955837)\n"
     ]
    }
   ],
   "source": [
    "print(gdf['geometry'][0])"
   ]
  },
  {
   "cell_type": "code",
   "execution_count": 35,
   "metadata": {},
   "outputs": [
    {
     "output_type": "execute_result",
     "data": {
      "text/plain": [
       "[[33.83846264766881, 35.891007792358295],\n",
       " [33.817464210009774, 35.93103767327084]]"
      ]
     },
     "metadata": {},
     "execution_count": 35
    }
   ],
   "source": [
    "raster_bbox"
   ]
  },
  {
   "source": [
    "### Save GeoDataFrame as GeoJSON File"
   ],
   "cell_type": "markdown",
   "metadata": {}
  },
  {
   "cell_type": "code",
   "execution_count": 36,
   "metadata": {},
   "outputs": [],
   "source": [
    "gdf.to_file(Path(cresi_path/\"geojson.geojson\"), driver=\"GeoJSON\")"
   ]
  },
  {
   "source": [
    "### Add vector layers on top of base folium map"
   ],
   "cell_type": "markdown",
   "metadata": {}
  },
  {
   "cell_type": "code",
   "execution_count": 37,
   "metadata": {},
   "outputs": [],
   "source": [
    "def geojson_to_json(geom_path):\n",
    "    with open(geom_path,'r') as g:\n",
    "        geojson = g.read()\n",
    "    return json.loads(geojson)"
   ]
  },
  {
   "cell_type": "code",
   "execution_count": 38,
   "metadata": {},
   "outputs": [],
   "source": [
    "geojson_path = Path(cresi_path/\"geojson.geojson\")"
   ]
  },
  {
   "cell_type": "code",
   "execution_count": 39,
   "metadata": {},
   "outputs": [],
   "source": [
    "folium.GeoJson(geojson_to_json(geojson_path),name='vector').add_to(map);"
   ]
  },
  {
   "source": [
    "### Add Layer control to toggle between the different layers"
   ],
   "cell_type": "markdown",
   "metadata": {}
  },
  {
   "cell_type": "code",
   "execution_count": 40,
   "metadata": {},
   "outputs": [],
   "source": [
    "folium.LayerControl().add_to(map);"
   ]
  },
  {
   "cell_type": "code",
   "execution_count": 41,
   "metadata": {},
   "outputs": [],
   "source": [
    "map.save(str(Path(cresi_path/'map.html')))"
   ]
  },
  {
   "cell_type": "code",
   "execution_count": 42,
   "metadata": {},
   "outputs": [],
   "source": [
    "map"
   ]
  },
  {
   "cell_type": "code",
   "execution_count": null,
   "metadata": {},
   "outputs": [],
   "source": []
  }
 ]
}